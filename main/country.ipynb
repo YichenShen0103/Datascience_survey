{
 "cells": [
  {
   "cell_type": "code",
   "execution_count": 1,
   "metadata": {},
   "outputs": [],
   "source": [
    "import pandas as pd\n",
    "import matplotlib.pyplot as plt\n",
    "from pyecharts import options as opts\n",
    "from pyecharts.charts import Map\n",
    "from pyecharts.faker import Faker\n",
    "import numpy as np\n",
    "from scipy import stats\n",
    "%matplotlib inline\n",
    "plt.rcParams['font.sans-serif']=['SimHei']"
   ]
  },
  {
   "cell_type": "code",
   "execution_count": 2,
   "metadata": {},
   "outputs": [],
   "source": [
    "#读取数据\n",
    "path = r'C:\\Users\\14253\\Desktop\\数据科学\\datasets\\law+'\n",
    "df = pd.read_csv(path + '\\\\2004-2023law.csv',low_memory=False)"
   ]
  },
  {
   "cell_type": "code",
   "execution_count": 3,
   "metadata": {},
   "outputs": [],
   "source": [
    "#预处理数据\n",
    "df.dropna(subset=[\"归属机构\"],inplace=True)\n"
   ]
  },
  {
   "cell_type": "code",
   "execution_count": 4,
   "metadata": {},
   "outputs": [
    {
     "data": {
      "text/html": [
       "<div>\n",
       "<style scoped>\n",
       "    .dataframe tbody tr th:only-of-type {\n",
       "        vertical-align: middle;\n",
       "    }\n",
       "\n",
       "    .dataframe tbody tr th {\n",
       "        vertical-align: top;\n",
       "    }\n",
       "\n",
       "    .dataframe thead th {\n",
       "        text-align: right;\n",
       "    }\n",
       "</style>\n",
       "<table border=\"1\" class=\"dataframe\">\n",
       "  <thead>\n",
       "    <tr style=\"text-align: right;\">\n",
       "      <th></th>\n",
       "      <th>国家</th>\n",
       "      <th>数量</th>\n",
       "    </tr>\n",
       "  </thead>\n",
       "  <tbody>\n",
       "    <tr>\n",
       "      <th>1</th>\n",
       "      <td>United States</td>\n",
       "      <td>11935</td>\n",
       "    </tr>\n",
       "    <tr>\n",
       "      <th>18</th>\n",
       "      <td>China</td>\n",
       "      <td>3483</td>\n",
       "    </tr>\n",
       "    <tr>\n",
       "      <th>6</th>\n",
       "      <td>United Kingdom</td>\n",
       "      <td>2382</td>\n",
       "    </tr>\n",
       "    <tr>\n",
       "      <th>16</th>\n",
       "      <td>Australia</td>\n",
       "      <td>1745</td>\n",
       "    </tr>\n",
       "    <tr>\n",
       "      <th>0</th>\n",
       "      <td>Canada</td>\n",
       "      <td>1434</td>\n",
       "    </tr>\n",
       "    <tr>\n",
       "      <th>...</th>\n",
       "      <td>...</td>\n",
       "      <td>...</td>\n",
       "    </tr>\n",
       "    <tr>\n",
       "      <th>219</th>\n",
       "      <td>Sri Lanka</td>\n",
       "      <td>13</td>\n",
       "    </tr>\n",
       "    <tr>\n",
       "      <th>258</th>\n",
       "      <td>Malawi</td>\n",
       "      <td>12</td>\n",
       "    </tr>\n",
       "    <tr>\n",
       "      <th>231</th>\n",
       "      <td>Mongolia</td>\n",
       "      <td>11</td>\n",
       "    </tr>\n",
       "    <tr>\n",
       "      <th>271</th>\n",
       "      <td>Costa Rica</td>\n",
       "      <td>11</td>\n",
       "    </tr>\n",
       "    <tr>\n",
       "      <th>211</th>\n",
       "      <td>Malta</td>\n",
       "      <td>10</td>\n",
       "    </tr>\n",
       "  </tbody>\n",
       "</table>\n",
       "<p>100 rows × 2 columns</p>\n",
       "</div>"
      ],
      "text/plain": [
       "                 国家     数量\n",
       "1     United States  11935\n",
       "18            China   3483\n",
       "6    United Kingdom   2382\n",
       "16        Australia   1745\n",
       "0            Canada   1434\n",
       "..              ...    ...\n",
       "219       Sri Lanka     13\n",
       "258          Malawi     12\n",
       "231        Mongolia     11\n",
       "271      Costa Rica     11\n",
       "211           Malta     10\n",
       "\n",
       "[100 rows x 2 columns]"
      ]
     },
     "execution_count": 4,
     "metadata": {},
     "output_type": "execute_result"
    }
   ],
   "source": [
    "#整理国际归属\n",
    "countries=dict()\n",
    "for i in df.index:\n",
    "    address=df.at[i,\"归属机构\"];country=''\n",
    "    for j in address:\n",
    "        if j==';':\n",
    "            country=country[1:]\n",
    "            if country==\"Russian Federation\":\n",
    "                country=\"Russia\"\n",
    "            try:\n",
    "                countries[country]+=1\n",
    "            except:\n",
    "                countries[country]=1\n",
    "            country=''\n",
    "        elif j in \",./<>?\\\"[]{}\\\\|`~!@#$%^&*-=_+1234567890\":\n",
    "            country=''\n",
    "        else:\n",
    "            country+=j\n",
    "df2=pd.DataFrame({'国家':list(countries.keys()),'数量':list(countries.values())})\n",
    "df2.sort_values(\"数量\",ascending=False,inplace=True)\n",
    "df2.head(100)\n"
   ]
  },
  {
   "cell_type": "code",
   "execution_count": 5,
   "metadata": {},
   "outputs": [
    {
     "name": "stderr",
     "output_type": "stream",
     "text": [
      "d:\\anaconda3\\Lib\\site-packages\\pyecharts\\charts\\chart.py:14: PendingDeprecationWarning: pyecharts 所有图表类型将在 v1.9.0 版本开始强制使用 ChartItem 进行数据项配置 :)\n",
      "  super().__init__(init_opts=init_opts)\n"
     ]
    }
   ],
   "source": [
    "# 绘制热力图\n",
    "x=df2['国家']\n",
    "y=df2['数量']\n",
    "value = list(y)\n",
    "attr = list(x)\n",
    " \n",
    "data = []\n",
    "for index in range(len(attr)):\n",
    "    city_ionfo=[attr[index],value[index]]\n",
    "    data.append(city_ionfo)\n",
    " \n",
    "c = (\n",
    "    Map()\n",
    "    .add(\"世界热力地图\",data, \"world\")\n",
    "    .set_series_opts(label_opts=opts.LabelOpts(is_show=False))\n",
    "    .set_global_opts(\n",
    "        title_opts=opts.TitleOpts(title=\"世界热力地图\"),\n",
    "        visualmap_opts=opts.VisualMapOpts(max_=2000),\n",
    " \n",
    "    )\n",
    "    .render()\n",
    ")"
   ]
  },
  {
   "cell_type": "code",
   "execution_count": 6,
   "metadata": {},
   "outputs": [
    {
     "data": {
      "text/plain": [
       "PearsonRResult(statistic=0.9100934361845144, pvalue=1.6917411173749356e-53)"
      ]
     },
     "execution_count": 6,
     "metadata": {},
     "output_type": "execute_result"
    }
   ],
   "source": [
    "df2.insert(2,\"GDP\",np.nan)\n",
    "df_gdp=pd.read_csv(r\"C:\\Users\\14253\\Desktop\\数据科学\\datasets\\世界各国GDP结构数据 2000-2021.csv\",low_memory=False)\n",
    "df_gdp=df_gdp[df_gdp['年份']==2021]\n",
    "df_gdp.set_index(\"地区名称\",inplace=True)\n",
    "for i in df2.index:\n",
    "    if df2.at[i,\"国家\"] in df_gdp.index:\n",
    "        df2.at[i,\"GDP\"] = df_gdp[\"GDP\"][df2.at[i,\"国家\"]]\n",
    "df2.dropna(subset=[\"GDP\"],inplace=True)\n",
    "df3=df2.drop(\"国家\",axis=1)\n",
    "stats.pearsonr(df3['数量'], df3['GDP'])"
   ]
  },
  {
   "cell_type": "code",
   "execution_count": 7,
   "metadata": {},
   "outputs": [
    {
     "data": {
      "image/png": "[encoded data removed]",
      "text/plain": [
       "<Figure size 1300x500 with 1 Axes>"
      ]
     },
     "metadata": {},
     "output_type": "display_data"
    }
   ],
   "source": [
    "#可视化\n",
    "df2=df2.head(10)\n",
    "x=df2['国家']\n",
    "y=df2['数量']\n",
    "plt.figure(figsize=(13,5))\n",
    "plt.bar(x,y,color='blue',alpha=0.5,label='数量')\n",
    "plt.xlabel('国家')\n",
    "plt.ylabel('数量')\n",
    "plt.title('各国法学界文献中与数据科学有关的文献数量')\n",
    "plt.show()"
   ]
  }
 ],
 "metadata": {
  "kernelspec": {
   "display_name": "base",
   "language": "python",
   "name": "python3"
  },
  "language_info": {
   "codemirror_mode": {
    "name": "ipython",
    "version": 3
   },
   "file_extension": ".py",
   "mimetype": "text/x-python",
   "name": "python",
   "nbconvert_exporter": "python",
   "pygments_lexer": "ipython3",
   "version": "3.11.5"
  }
 },
 "nbformat": 4,
 "nbformat_minor": 2
}
