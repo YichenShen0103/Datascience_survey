{
 "cells": [
  {
   "cell_type": "code",
   "execution_count": 7,
   "metadata": {},
   "outputs": [],
   "source": [
    "import pandas as pd\n",
    "import numpy as np\n",
    "import matplotlib.pyplot as plt\n",
    "%matplotlib inline\n",
    "plt.rcParams['font.sans-serif']=['SimHei']"
   ]
  },
  {
   "cell_type": "code",
   "execution_count": 8,
   "metadata": {},
   "outputs": [],
   "source": [
    "#本文件用于分析数据集中的文献具体的研究领域，并尝试根据朴素贝叶斯分类器做出分类。"
   ]
  },
  {
   "cell_type": "code",
   "execution_count": 9,
   "metadata": {},
   "outputs": [
    {
     "data": {
      "text/html": [
       "<div>\n",
       "<style scoped>\n",
       "    .dataframe tbody tr th:only-of-type {\n",
       "        vertical-align: middle;\n",
       "    }\n",
       "\n",
       "    .dataframe tbody tr th {\n",
       "        vertical-align: top;\n",
       "    }\n",
       "\n",
       "    .dataframe thead th {\n",
       "        text-align: right;\n",
       "    }\n",
       "</style>\n",
       "<table border=\"1\" class=\"dataframe\">\n",
       "  <thead>\n",
       "    <tr style=\"text-align: right;\">\n",
       "      <th></th>\n",
       "      <th>年份</th>\n",
       "      <th>页码计数</th>\n",
       "      <th>施引文献</th>\n",
       "    </tr>\n",
       "  </thead>\n",
       "  <tbody>\n",
       "    <tr>\n",
       "      <th>count</th>\n",
       "      <td>43118.000000</td>\n",
       "      <td>37130.000000</td>\n",
       "      <td>43118.000000</td>\n",
       "    </tr>\n",
       "    <tr>\n",
       "      <th>mean</th>\n",
       "      <td>2017.537293</td>\n",
       "      <td>112.515298</td>\n",
       "      <td>14.602996</td>\n",
       "    </tr>\n",
       "    <tr>\n",
       "      <th>std</th>\n",
       "      <td>4.895166</td>\n",
       "      <td>6448.049171</td>\n",
       "      <td>39.565319</td>\n",
       "    </tr>\n",
       "    <tr>\n",
       "      <th>min</th>\n",
       "      <td>2004.000000</td>\n",
       "      <td>-69950.000000</td>\n",
       "      <td>0.000000</td>\n",
       "    </tr>\n",
       "    <tr>\n",
       "      <th>25%</th>\n",
       "      <td>2015.000000</td>\n",
       "      <td>12.000000</td>\n",
       "      <td>1.000000</td>\n",
       "    </tr>\n",
       "    <tr>\n",
       "      <th>50%</th>\n",
       "      <td>2019.000000</td>\n",
       "      <td>17.000000</td>\n",
       "      <td>5.000000</td>\n",
       "    </tr>\n",
       "    <tr>\n",
       "      <th>75%</th>\n",
       "      <td>2022.000000</td>\n",
       "      <td>25.000000</td>\n",
       "      <td>15.000000</td>\n",
       "    </tr>\n",
       "    <tr>\n",
       "      <th>max</th>\n",
       "      <td>2023.000000</td>\n",
       "      <td>955010.000000</td>\n",
       "      <td>2589.000000</td>\n",
       "    </tr>\n",
       "  </tbody>\n",
       "</table>\n",
       "</div>"
      ],
      "text/plain": [
       "                 年份           页码计数          施引文献\n",
       "count  43118.000000   37130.000000  43118.000000\n",
       "mean    2017.537293     112.515298     14.602996\n",
       "std        4.895166    6448.049171     39.565319\n",
       "min     2004.000000  -69950.000000      0.000000\n",
       "25%     2015.000000      12.000000      1.000000\n",
       "50%     2019.000000      17.000000      5.000000\n",
       "75%     2022.000000      25.000000     15.000000\n",
       "max     2023.000000  955010.000000   2589.000000"
      ]
     },
     "execution_count": 9,
     "metadata": {},
     "output_type": "execute_result"
    }
   ],
   "source": [
    "#读取数据\n",
    "main_df=pd.read_csv('C:\\\\Users\\\\14253\\\\Desktop\\\\数据科学\\\\datasets\\\\law+\\\\2004-2023law+ds.csv')\n",
    "main_df.describe()\n"
   ]
  },
  {
   "cell_type": "code",
   "execution_count": 29,
   "metadata": {},
   "outputs": [
    {
     "name": "stdout",
     "output_type": "stream",
     "text": [
      "              precision    recall  f1-score   support\n",
      "\n",
      "    Data law       0.78      1.00      0.88         7\n",
      "       other       1.00      0.33      0.50         3\n",
      "\n",
      "    accuracy                           0.80        10\n",
      "   macro avg       0.89      0.67      0.69        10\n",
      "weighted avg       0.84      0.80      0.76        10\n",
      "\n",
      "准确率: 0.8\n",
      "{'Data law': 40870, 'other': 2248}\n"
     ]
    }
   ],
   "source": [
    "from sklearn.model_selection import train_test_split\n",
    "from sklearn.feature_extraction.text import TfidfVectorizer\n",
    "from sklearn.naive_bayes import MultinomialNB\n",
    "from sklearn.pipeline import Pipeline\n",
    "from sklearn import metrics\n",
    "from langdetect import detect\n",
    "\n",
    "# 示例数据\n",
    "df=pd.read_excel('C:\\\\Users\\\\14253\\\\Desktop\\\\数据科学\\\\datasets\\\\train\\\\train_data.xlsx')\n",
    "\n",
    "# 准备数据\n",
    "df['文本'] = df['标题'] + ' ' + df['摘要']\n",
    "df['语言'] = df['文本'].apply(detect)\n",
    "df = df[df['语言'] == 'en']\n",
    "X = df['文本']\n",
    "y = df['领域']\n",
    "\n",
    "# 分割数据集\n",
    "X_train, X_test, y_train, y_test = train_test_split(X, y, test_size=0.2)\n",
    "\n",
    "# 构建TF-IDF向量化器和分类器管道\n",
    "pipeline = Pipeline([('tfidf', TfidfVectorizer(stop_words='english')),\n",
    "                     ('clf', MultinomialNB())\n",
    "])\n",
    "\n",
    "# 训练模型\n",
    "pipeline.fit(X_train, y_train)\n",
    "\n",
    "# 预测\n",
    "y_pred = pipeline.predict(X_test)\n",
    "\n",
    "# 评估模型\n",
    "print(metrics.classification_report(y_test, y_pred))\n",
    "print('准确率:', metrics.accuracy_score(y_test, y_pred))\n",
    "\n",
    "\n",
    "new_data = main_df['文献标题']+' '+main_df['摘要']\n",
    "predicted_category = pipeline.predict(new_data)\n",
    "\n",
    "dict_category = {'Data law': 0, 'other': 0}\n",
    "for i in predicted_category:\n",
    "    dict_category[i] += 1\n",
    "\n",
    "print(dict_category)"
   ]
  }
 ],
 "metadata": {
  "kernelspec": {
   "display_name": "base",
   "language": "python",
   "name": "python3"
  },
  "language_info": {
   "codemirror_mode": {
    "name": "ipython",
    "version": 3
   },
   "file_extension": ".py",
   "mimetype": "text/x-python",
   "name": "python",
   "nbconvert_exporter": "python",
   "pygments_lexer": "ipython3",
   "version": "3.11.5"
  }
 },
 "nbformat": 4,
 "nbformat_minor": 2
}
